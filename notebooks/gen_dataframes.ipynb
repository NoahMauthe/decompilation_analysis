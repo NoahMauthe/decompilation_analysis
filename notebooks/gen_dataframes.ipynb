{
 "cells": [
  {
   "cell_type": "code",
   "execution_count": 10,
   "metadata": {
    "scrolled": true
   },
   "outputs": [
    {
     "data": {
      "application/vnd.jupyter.widget-view+json": {
       "model_id": "27b44d7d1f8d467c9a325fd4f6975466",
       "version_major": 2,
       "version_minor": 0
      },
      "text/plain": [
       "HBox(children=(HTML(value='f-droid dataset'), FloatProgress(value=0.0, max=3018.0), HTML(value='')))"
      ]
     },
     "metadata": {},
     "output_type": "display_data"
    },
    {
     "name": "stdout",
     "output_type": "stream",
     "text": [
      "\n"
     ]
    },
    {
     "data": {
      "application/vnd.jupyter.widget-view+json": {
       "model_id": "867f0a4eb43f4168b20eb24c92fa81ec",
       "version_major": 2,
       "version_minor": 0
      },
      "text/plain": [
       "HBox(children=(HTML(value='google dataset'), FloatProgress(value=0.0, max=13601.0), HTML(value='')))"
      ]
     },
     "metadata": {},
     "output_type": "display_data"
    },
    {
     "name": "stdout",
     "output_type": "stream",
     "text": [
      "\n",
      "NOTE: ignored 7 failed apps\n"
     ]
    },
    {
     "data": {
      "application/vnd.jupyter.widget-view+json": {
       "model_id": "753c19067f614d7bb2a0c998be056349",
       "version_major": 2,
       "version_minor": 0
      },
      "text/plain": [
       "HBox(children=(HTML(value='malware dataset'), FloatProgress(value=0.0, max=24553.0), HTML(value='')))"
      ]
     },
     "metadata": {},
     "output_type": "display_data"
    },
    {
     "name": "stdout",
     "output_type": "stream",
     "text": [
      "\n",
      "NOTE: ignored 1220 failed apps\n"
     ]
    }
   ],
   "source": [
    "# Read raw CSV files one by one and generate dataframes for further analysis.\n",
    "# (Aggregating all data into one large DF won't scale, since the dataset is too large.)\n",
    "\n",
    "import pandas as pd\n",
    "import numpy as np\n",
    "import glob\n",
    "import os.path\n",
    "from tqdm.notebook import tqdm\n",
    "\n",
    "# Path to dataset directory\n",
    "DATASET_DIR=\"\"\n",
    "\n",
    "DATASETS=['f-droid', 'google', 'malware']\n",
    "\n",
    "DECOMPILERS=['CFR','Fernflower','Jadx','Procyon']\n",
    "\n",
    "DatsetCategory = pd.CategoricalDtype(categories=DATASETS)\n",
    "OutcomeCategory = pd.CategoricalDtype(categories=['S', 'F', 'T','N'])\n",
    "\n",
    "main_entries = []\n",
    "\n",
    "bin_entries_jadx = []\n",
    "bin_entries_methods = []\n",
    "\n",
    "# Decompiler co-failure DF \n",
    "decomp_df = pd.DataFrame(0, index=DECOMPILERS, columns=['Total','>0','>1','All'])\n",
    "\n",
    "with open(os.path.join(DATASET_DIR, 'data', 'ads.txt'), 'r') as f:\n",
    "    ad_supported = set(l.strip() for l in f)\n",
    "\n",
    "\n",
    "for dataset in DATASETS:\n",
    "    n_failed = 0\n",
    "    for path in tqdm(glob.glob(os.path.join(DATASET_DIR, 'data', dataset, '*.ecsv')), \n",
    "                     desc=(\"{} dataset\".format(dataset))):\n",
    "        # Read header\n",
    "        header = []\n",
    "        with open(path, 'r') as f:\n",
    "            for n,l in enumerate(f):\n",
    "                if n < 5:\n",
    "                    header.append(l)\n",
    "                else: break\n",
    "        if header[0].split()[0] == \"ERROR:\":\n",
    "            n_failed += 1\n",
    "            continue\n",
    "        else:\n",
    "            packed = (header[0].split()[1] != \"None\")\n",
    "            family = ' '.join((header[4].split()[1:])) if dataset == 'malware' else None\n",
    "\n",
    "        name = '.'.join(os.path.basename(path).split('.')[:-1])\n",
    "            \n",
    "        ads = (name in ad_supported) if dataset == 'google' else None\n",
    "        \n",
    "        df = pd.read_csv(path,\n",
    "                         engine='c',\n",
    "                         sep=';', \n",
    "                         header=6, \n",
    "                         usecols=range(1,6),\n",
    "                         dtype={'size': np.int32,\n",
    "                                'C': OutcomeCategory, \n",
    "                                'F': OutcomeCategory, \n",
    "                                'J': OutcomeCategory, \n",
    "                                'P': OutcomeCategory})\n",
    "\n",
    "        cfr_N        = 'N' in df.C.values\n",
    "        fernflower_N = 'N' in df.F.values\n",
    "        jadx_N       = 'N' in df.J.values\n",
    "        procyon_N    = 'N' in df.P.values\n",
    "        \n",
    "        mask_cfr_F        = df.C == 'F'\n",
    "        mask_fernflower_F = df.F == 'F'\n",
    "        mask_jadx_F       = df.J == 'F'\n",
    "        mask_procyon_F    = df.P == 'F'\n",
    "        \n",
    "        cfr_T        = 'T' in df.C.values\n",
    "        fernflower_T = 'T' in df.F.values\n",
    "        jadx_T       = 'T' in df.J.values\n",
    "        procyon_T    = 'T' in df.P.values\n",
    "       \n",
    "        tot_successful = (df[['C','F','J','P']] == 'S').any(axis=1).sum()\n",
    "    \n",
    "        # Main DF\n",
    "        main_entries.append([name, \n",
    "                             dataset, \n",
    "                             packed, \n",
    "                             family,\n",
    "                             ads,\n",
    "                             df.shape[0], \n",
    "                             mask_cfr_F.sum() if not cfr_N else None, \n",
    "                             mask_fernflower_F.sum() if not fernflower_N else None, \n",
    "                             mask_jadx_F.sum() if not jadx_N else None,\n",
    "                             mask_procyon_F.sum() if not procyon_N else None,\n",
    "                             cfr_T if not cfr_N else None,\n",
    "                             fernflower_T if not fernflower_N else None, \n",
    "                             jadx_T if not jadx_N else None,\n",
    "                             procyon_T if not procyon_N else None,\n",
    "                             tot_successful])\n",
    "       \n",
    "        # Generate DFs with method size and failure rate distributions\n",
    "        df['logbin'] = np.log2(df['size']).astype(np.int8)\n",
    "        counts_methods = df['logbin'].value_counts()\n",
    "        counts_jadx = df[mask_jadx_F]['logbin'].value_counts()\n",
    "        \n",
    "        # jadx failure distribution across different method sizes\n",
    "        df_jadx = pd.DataFrame(counts_jadx).reindex(range(4, 18), fill_value=0).T\n",
    "        \n",
    "        # Method size distribution\n",
    "        df_methods = pd.DataFrame(counts_methods).reindex(range(4, 18), fill_value=0).T\n",
    "        \n",
    "        # Turn integer indexes into strings\n",
    "        df_jadx.columns = df_jadx.columns.map(str)\n",
    "        df_methods.columns = df_methods.columns.map(str) \n",
    "            \n",
    "        bin_entries_jadx.append(df_jadx)\n",
    "        bin_entries_methods.append(df_methods)\n",
    "    \n",
    "        # Prepare DF to study co-failure distribution\n",
    "        \n",
    "        all_failed = pd.Series([np.int(1)] * len(df.index))\n",
    "        num_failed = ((mask_cfr_F.astype(np.int) if not (cfr_T or cfr_N) else all_failed) + \n",
    "                      (mask_fernflower_F.astype(np.int) if not (fernflower_T or fernflower_N) else all_failed) + \n",
    "                      (mask_jadx_F.astype(np.int) if not (jadx_T or jadx_N) else all_failed) + \n",
    "                      (mask_procyon_F.astype(np.int) if not (procyon_T or procyon_N) else all_failed))\n",
    "        num_failed.name = 'n_failed'\n",
    "        failed_df = df.join(num_failed)\n",
    "        \n",
    "        # Only record fail distributions for f-droid, since we may get unreliable results \n",
    "        # due to dex2jar replacing heavily obfuscated methods with \"stubs\"\n",
    "        if dataset == 'f-droid':\n",
    "            new_df = pd.DataFrame(0, columns=decomp_df.columns, index=decomp_df.index)\n",
    "\n",
    "            for d in DECOMPILERS:\n",
    "                shorthand = d[0]\n",
    "                # Get number of failed decompilers apart from current one\n",
    "                failed_s = failed_df[failed_df[shorthand] != 'S']['n_failed'] - 1\n",
    "\n",
    "                # Get distribution of number of other failing decompilers\n",
    "                occurecnes = failed_s.value_counts().reindex(range(len(DECOMPILERS)), fill_value=0)\n",
    "\n",
    "                rev_cumsum = occurecnes[::-1].cumsum()[::-1]\n",
    "                total = len(failed_df[(failed_df[shorthand] == 'F') | (failed_df[shorthand] == 'T')])\n",
    "                new_df.loc[d,:] = [total, rev_cumsum[1], rev_cumsum[2], rev_cumsum[3]]\n",
    "\n",
    "                decomp_df += new_df\n",
    "                \n",
    "    if n_failed:\n",
    "        print(\"NOTE: ignored {} failed apps\".format(n_failed))\n",
    "\n",
    "COLUMNS=[\"Name\", \n",
    "         \"Dataset\", \n",
    "         \"Packed\",\n",
    "         \"Family\",\n",
    "         \"Ads\",\n",
    "         \"Methods\", \n",
    "         \"CFR_F\", \n",
    "         \"Fernflower_F\", \n",
    "         \"Jadx_F\", \n",
    "         \"Procyon_F\",\n",
    "         \"CFR_T\", \n",
    "         \"Fernflower_T\", \n",
    "         \"Jadx_T\", \n",
    "         \"Procyon_T\",\n",
    "         \"Tot_S\"]\n",
    "\n",
    "# Make main DF, one row per app\n",
    "apps_df = pd.DataFrame(main_entries, columns=COLUMNS)\n",
    "apps_df[\"Dataset\"] = apps_df[\"Dataset\"].astype(DatsetCategory)\n",
    "\n",
    "# Make method size and failure rate distribution DFs. \n",
    "# Rows will be in same order as main DF, so we can join on index.\n",
    "jadx_bins_df = pd.concat(bin_entries_jadx, ignore_index=True)\n",
    "method_bins_df = pd.concat(bin_entries_methods, ignore_index=True)"
   ]
  },
  {
   "cell_type": "code",
   "execution_count": 52,
   "metadata": {
    "scrolled": true
   },
   "outputs": [],
   "source": [
    "# Persist DFs to disk\n",
    "apps_df.to_parquet('main_decompilation_df.parquet')\n",
    "jadx_bins_df.to_parquet('jadx_bins_df.parquet')\n",
    "method_bins_df.to_parquet('method_bins_df.parquet')\n",
    "decomp_df.to_parquet('decomp_fail_dist_df.parquet')"
   ]
  },
  {
   "cell_type": "code",
   "execution_count": 53,
   "metadata": {
    "scrolled": true
   },
   "outputs": [],
   "source": [
    "# Read complementary CSV with inaccuracies due to inner classes and generics.\n",
    "# (this is used to correct main DF)\n",
    "\n",
    "import pandas as pd\n",
    "import numpy as np\n",
    "import os.path\n",
    "\n",
    "# Path to dataset directory\n",
    "DATASET_DIR=\"\"\n",
    "\n",
    "DATASETS=['f-droid', 'google', 'malware']\n",
    "\n",
    "DECOMPILERS=['CFR','Fernflower','Jadx','Procyon']\n",
    "\n",
    "to_concat = []\n",
    "\n",
    "for dataset in DATASETS:\n",
    "    df = pd.read_csv(os.path.join(DATASET_DIR, 'data', 'failures_{}.csv'.format(dataset)),\n",
    "                     engine='c',\n",
    "                     sep=';',\n",
    "                     usecols=range(13),\n",
    "                     dtype={ 'App':'string',\n",
    "                             'CFR_no_match':np.float,\n",
    "                             'CFR_multi_match':np.float,\n",
    "                             'CFR_multi_match_average':np.float,\n",
    "                             'fernflower_no_match':np.float,\n",
    "                             'fernflower_multi_match':np.float,\n",
    "                             'fernflower_multi_match_average':np.float,\n",
    "                             'jadx_no_match':np.float,\n",
    "                             'jadx_multi_match':np.float,\n",
    "                             'jadx_multi_match_average':np.float,\n",
    "                             'procyon_no_match':np.float,\n",
    "                             'procyon_multi_match':np.float,\n",
    "                             'procyon_multi_match_average':np.float},\n",
    "                     na_values=['T','N'])\n",
    "    df.insert(0, 'Dataset', dataset)\n",
    "    to_concat.append(df)\n",
    "match_fail_df = pd.concat(to_concat, ignore_index=True)\n",
    "match_fail_df.columns = [s[0].upper()+s[1:] for s in match_fail_df.columns]\n",
    "match_fail_df = match_fail_df.rename(columns={'App':'Name'})\n",
    "\n",
    "for d in DECOMPILERS:\n",
    "    match_fail_df[d+'_extra'] = (match_fail_df[d+'_multi_match'] * match_fail_df[d+'_multi_match_average']).apply(np.round)-match_fail_df[d+'_multi_match']"
   ]
  },
  {
   "cell_type": "code",
   "execution_count": 55,
   "metadata": {
    "scrolled": true
   },
   "outputs": [],
   "source": [
    "# Persist to disk\n",
    "match_fail_df.to_parquet('match_fail_df.parquet')"
   ]
  },
  {
   "cell_type": "code",
   "execution_count": 57,
   "metadata": {
    "scrolled": true
   },
   "outputs": [
    {
     "data": {
      "application/vnd.jupyter.widget-view+json": {
       "model_id": "99291edcff71478ca5fc3a8c42f08fe9",
       "version_major": 2,
       "version_minor": 0
      },
      "text/plain": [
       "HBox(children=(HTML(value='f-droid dataset'), FloatProgress(value=0.0, max=3018.0), HTML(value='')))"
      ]
     },
     "metadata": {},
     "output_type": "display_data"
    },
    {
     "name": "stdout",
     "output_type": "stream",
     "text": [
      "\n"
     ]
    },
    {
     "data": {
      "application/vnd.jupyter.widget-view+json": {
       "model_id": "36869b905dd04c44b2a820bee2c76c5a",
       "version_major": 2,
       "version_minor": 0
      },
      "text/plain": [
       "HBox(children=(HTML(value='google dataset'), FloatProgress(value=0.0, max=13601.0), HTML(value='')))"
      ]
     },
     "metadata": {},
     "output_type": "display_data"
    },
    {
     "name": "stdout",
     "output_type": "stream",
     "text": [
      "\n"
     ]
    },
    {
     "data": {
      "application/vnd.jupyter.widget-view+json": {
       "model_id": "bbfc8602fd5b407f8486a1e6c2abee45",
       "version_major": 2,
       "version_minor": 0
      },
      "text/plain": [
       "HBox(children=(HTML(value='malware dataset'), FloatProgress(value=0.0, max=24553.0), HTML(value='')))"
      ]
     },
     "metadata": {},
     "output_type": "display_data"
    },
    {
     "name": "stdout",
     "output_type": "stream",
     "text": [
      "\n"
     ]
    }
   ],
   "source": [
    "# Record data for analysis of tokens associated with decompilation failures\n",
    "\n",
    "import pandas as pd\n",
    "import numpy as np\n",
    "import glob\n",
    "import os.path\n",
    "from tqdm.notebook import tqdm\n",
    "\n",
    "# Path to dataset directory\n",
    "DATASET_DIR=\"\"\n",
    "\n",
    "DATASETS=['f-droid', 'google', 'malware']\n",
    "\n",
    "token_method_freq = {ds:{} for ds in DATASETS}\n",
    "token_fail_freq = {ds:{} for ds in DATASETS}\n",
    "token_app_freq = {ds:{} for ds in DATASETS}\n",
    "\n",
    "for dataset in DATASETS:\n",
    "    for path in tqdm(glob.glob(os.path.join(DATASET_DIR, 'data', dataset, '*.ecsv')), \n",
    "                     desc=(\"{} dataset\".format(dataset))):\n",
    "        # Read header\n",
    "        header = []\n",
    "        with open(path, 'r') as f:\n",
    "            if f.readline().split()[0] == \"ERROR:\":\n",
    "                continue\n",
    "        \n",
    "        with open(path, 'r') as file:\n",
    "            \n",
    "            # Skip header\n",
    "            for i in range(8): file.readline()\n",
    "            \n",
    "            app_tokens = set()\n",
    "            \n",
    "            for l in file:\n",
    "                fields = l.split(';')\n",
    "                signature = fields[0].split(' ')[0] # Get class/package part\n",
    "                # This is 5-10x faster than using regular expressions...\n",
    "                signature = signature.replace('$','.')\n",
    "                tokens = set(signature.split('.'))\n",
    "                for t in tokens:\n",
    "                    app_tokens.add(t)\n",
    "                    if t not in token_method_freq[dataset]:\n",
    "                        token_method_freq[dataset][t] = 0\n",
    "                        token_fail_freq[dataset][t] = 0\n",
    "                        token_app_freq[dataset][t] = 0\n",
    "                    token_method_freq[dataset][t] += 1\n",
    "                    if fields[4] == 'F':\n",
    "                        token_fail_freq[dataset][t] += 1\n",
    "            for t in app_tokens:\n",
    "                token_app_freq[dataset][t] += 1"
   ]
  },
  {
   "cell_type": "code",
   "execution_count": 58,
   "metadata": {
    "scrolled": true
   },
   "outputs": [],
   "source": [
    "# Persist data about tokens as pickled Python dictionaries\n",
    "\n",
    "import lzma\n",
    "import pickle\n",
    "\n",
    "data = (token_method_freq, token_fail_freq, token_app_freq)\n",
    "with lzma.open('token_frequencies.pickle.lzma', 'wb') as f:\n",
    "    pickle.dump(data, f)"
   ]
  }
 ],
 "metadata": {
  "kernelspec": {
   "display_name": "Python 3",
   "language": "python",
   "name": "python3"
  },
  "language_info": {
   "codemirror_mode": {
    "name": "ipython",
    "version": 3
   },
   "file_extension": ".py",
   "mimetype": "text/x-python",
   "name": "python",
   "nbconvert_exporter": "python",
   "pygments_lexer": "ipython3",
   "version": "3.6.9"
  },
  "widgets": {
   "application/vnd.jupyter.widget-state+json": {
    "state": {
     "030ee1c3e1e445bc97f5766d7d8ce8b9": {
      "model_module": "@jupyter-widgets/base",
      "model_module_version": "1.2.0",
      "model_name": "LayoutModel",
      "state": {}
     },
     "04740cd99b734a37b56659f5afe96d19": {
      "model_module": "@jupyter-widgets/base",
      "model_module_version": "1.2.0",
      "model_name": "LayoutModel",
      "state": {}
     },
     "04cce8f4d96145949b28116acb41c125": {
      "model_module": "@jupyter-widgets/controls",
      "model_module_version": "1.5.0",
      "model_name": "HTMLModel",
      "state": {
       "layout": "IPY_MODEL_fb07f3fc5bcf4664876cc66ab9762e87",
       "style": "IPY_MODEL_c2984493c8c9419bb279e2d57a0ba8c9",
       "value": "google dataset: 100%"
      }
     },
     "0ba4d750e99c414c9126c8c40573fe5c": {
      "model_module": "@jupyter-widgets/controls",
      "model_module_version": "1.5.0",
      "model_name": "ProgressStyleModel",
      "state": {
       "description_width": ""
      }
     },
     "15cdba02916b4d6dbfcecbcdccc2730e": {
      "model_module": "@jupyter-widgets/base",
      "model_module_version": "1.2.0",
      "model_name": "LayoutModel",
      "state": {}
     },
     "17747cdb4c0f485285d19596770bc789": {
      "model_module": "@jupyter-widgets/base",
      "model_module_version": "1.2.0",
      "model_name": "LayoutModel",
      "state": {}
     },
     "2f96a575a99d4beeb1c02df779267090": {
      "model_module": "@jupyter-widgets/base",
      "model_module_version": "1.2.0",
      "model_name": "LayoutModel",
      "state": {}
     },
     "32f7ac8b1f9744aeb06bd238c8b5b9b0": {
      "model_module": "@jupyter-widgets/controls",
      "model_module_version": "1.5.0",
      "model_name": "ProgressStyleModel",
      "state": {
       "description_width": ""
      }
     },
     "3704459f31864fa38cde5499694a9738": {
      "model_module": "@jupyter-widgets/controls",
      "model_module_version": "1.5.0",
      "model_name": "DescriptionStyleModel",
      "state": {
       "description_width": ""
      }
     },
     "4dcfbfc2dc4043ed917b454a13645b23": {
      "model_module": "@jupyter-widgets/controls",
      "model_module_version": "1.5.0",
      "model_name": "DescriptionStyleModel",
      "state": {
       "description_width": ""
      }
     },
     "68790121d25b46f9bd0efb82bde1d543": {
      "model_module": "@jupyter-widgets/controls",
      "model_module_version": "1.5.0",
      "model_name": "HBoxModel",
      "state": {
       "children": [
        "IPY_MODEL_cee67e10aaa843a793653c739996ae9e",
        "IPY_MODEL_f6c2a0377fb9423788cbe69176e35191",
        "IPY_MODEL_f45fedbde79a44f9a89aa55f03439eba"
       ],
       "layout": "IPY_MODEL_d5e960793ad341f2bb5daaa5ba3c1a82"
      }
     },
     "73829a72c1c347f2b21a565bf86bbb56": {
      "model_module": "@jupyter-widgets/base",
      "model_module_version": "1.2.0",
      "model_name": "LayoutModel",
      "state": {}
     },
     "7c3d3f511df44202bbd91347a5d517f9": {
      "model_module": "@jupyter-widgets/controls",
      "model_module_version": "1.5.0",
      "model_name": "DescriptionStyleModel",
      "state": {
       "description_width": ""
      }
     },
     "89d32e18630042ebb06cdb83f8da463c": {
      "model_module": "@jupyter-widgets/controls",
      "model_module_version": "1.5.0",
      "model_name": "DescriptionStyleModel",
      "state": {
       "description_width": ""
      }
     },
     "8afe971d8b51458ebea53f0ca0f34c55": {
      "model_module": "@jupyter-widgets/base",
      "model_module_version": "1.2.0",
      "model_name": "LayoutModel",
      "state": {}
     },
     "8b077fe012d7419388d4dee2e83924c7": {
      "model_module": "@jupyter-widgets/base",
      "model_module_version": "1.2.0",
      "model_name": "LayoutModel",
      "state": {}
     },
     "917c802f83474399bad7301168f9c1e6": {
      "model_module": "@jupyter-widgets/controls",
      "model_module_version": "1.5.0",
      "model_name": "FloatProgressModel",
      "state": {
       "bar_style": "success",
       "layout": "IPY_MODEL_f17c20b01a6a456db206c85f6df59bdc",
       "max": 13601,
       "style": "IPY_MODEL_0ba4d750e99c414c9126c8c40573fe5c",
       "value": 13601
      }
     },
     "96cd3c8892934b5c9e57137b2435b270": {
      "model_module": "@jupyter-widgets/base",
      "model_module_version": "1.2.0",
      "model_name": "LayoutModel",
      "state": {}
     },
     "9c0f15786f764965a792e5c7fd07a02f": {
      "model_module": "@jupyter-widgets/controls",
      "model_module_version": "1.5.0",
      "model_name": "ProgressStyleModel",
      "state": {
       "description_width": ""
      }
     },
     "a7bee7763c964b148770f80f6c7e30ea": {
      "model_module": "@jupyter-widgets/controls",
      "model_module_version": "1.5.0",
      "model_name": "DescriptionStyleModel",
      "state": {
       "description_width": ""
      }
     },
     "ad33c91895834ca38603e222f2bab08e": {
      "model_module": "@jupyter-widgets/controls",
      "model_module_version": "1.5.0",
      "model_name": "HBoxModel",
      "state": {
       "children": [
        "IPY_MODEL_ed90868d4a1742ca9f251a109919dcec",
        "IPY_MODEL_f520aa9302f24777a49378df77c0736c",
        "IPY_MODEL_e3875025b7914bc2b76b4d126129565a"
       ],
       "layout": "IPY_MODEL_8afe971d8b51458ebea53f0ca0f34c55"
      }
     },
     "c2984493c8c9419bb279e2d57a0ba8c9": {
      "model_module": "@jupyter-widgets/controls",
      "model_module_version": "1.5.0",
      "model_name": "DescriptionStyleModel",
      "state": {
       "description_width": ""
      }
     },
     "cee67e10aaa843a793653c739996ae9e": {
      "model_module": "@jupyter-widgets/controls",
      "model_module_version": "1.5.0",
      "model_name": "HTMLModel",
      "state": {
       "layout": "IPY_MODEL_8b077fe012d7419388d4dee2e83924c7",
       "style": "IPY_MODEL_89d32e18630042ebb06cdb83f8da463c",
       "value": "malware dataset: 100%"
      }
     },
     "d5e960793ad341f2bb5daaa5ba3c1a82": {
      "model_module": "@jupyter-widgets/base",
      "model_module_version": "1.2.0",
      "model_name": "LayoutModel",
      "state": {}
     },
     "e3875025b7914bc2b76b4d126129565a": {
      "model_module": "@jupyter-widgets/controls",
      "model_module_version": "1.5.0",
      "model_name": "HTMLModel",
      "state": {
       "layout": "IPY_MODEL_030ee1c3e1e445bc97f5766d7d8ce8b9",
       "style": "IPY_MODEL_4dcfbfc2dc4043ed917b454a13645b23",
       "value": " 2985/2985 [05:49&lt;00:00,  8.54it/s]"
      }
     },
     "ed90868d4a1742ca9f251a109919dcec": {
      "model_module": "@jupyter-widgets/controls",
      "model_module_version": "1.5.0",
      "model_name": "HTMLModel",
      "state": {
       "layout": "IPY_MODEL_73829a72c1c347f2b21a565bf86bbb56",
       "style": "IPY_MODEL_7c3d3f511df44202bbd91347a5d517f9",
       "value": "f-droid dataset: 100%"
      }
     },
     "f17c20b01a6a456db206c85f6df59bdc": {
      "model_module": "@jupyter-widgets/base",
      "model_module_version": "1.2.0",
      "model_name": "LayoutModel",
      "state": {}
     },
     "f33c85677abb481b842f29f05192bcf5": {
      "model_module": "@jupyter-widgets/controls",
      "model_module_version": "1.5.0",
      "model_name": "HTMLModel",
      "state": {
       "layout": "IPY_MODEL_04740cd99b734a37b56659f5afe96d19",
       "style": "IPY_MODEL_a7bee7763c964b148770f80f6c7e30ea",
       "value": " 13601/13601 [18:51&lt;00:00, 12.02it/s]"
      }
     },
     "f45fedbde79a44f9a89aa55f03439eba": {
      "model_module": "@jupyter-widgets/controls",
      "model_module_version": "1.5.0",
      "model_name": "HTMLModel",
      "state": {
       "layout": "IPY_MODEL_15cdba02916b4d6dbfcecbcdccc2730e",
       "style": "IPY_MODEL_3704459f31864fa38cde5499694a9738",
       "value": " 24553/24553 [11:28&lt;00:00, 35.66it/s]"
      }
     },
     "f520aa9302f24777a49378df77c0736c": {
      "model_module": "@jupyter-widgets/controls",
      "model_module_version": "1.5.0",
      "model_name": "FloatProgressModel",
      "state": {
       "bar_style": "success",
       "layout": "IPY_MODEL_96cd3c8892934b5c9e57137b2435b270",
       "max": 2985,
       "style": "IPY_MODEL_9c0f15786f764965a792e5c7fd07a02f",
       "value": 2985
      }
     },
     "f6c2a0377fb9423788cbe69176e35191": {
      "model_module": "@jupyter-widgets/controls",
      "model_module_version": "1.5.0",
      "model_name": "FloatProgressModel",
      "state": {
       "bar_style": "success",
       "layout": "IPY_MODEL_2f96a575a99d4beeb1c02df779267090",
       "max": 24553,
       "style": "IPY_MODEL_32f7ac8b1f9744aeb06bd238c8b5b9b0",
       "value": 24553
      }
     },
     "fb07f3fc5bcf4664876cc66ab9762e87": {
      "model_module": "@jupyter-widgets/base",
      "model_module_version": "1.2.0",
      "model_name": "LayoutModel",
      "state": {}
     },
     "ffa379a533a94f78b1da72c962a5191c": {
      "model_module": "@jupyter-widgets/controls",
      "model_module_version": "1.5.0",
      "model_name": "HBoxModel",
      "state": {
       "children": [
        "IPY_MODEL_04cce8f4d96145949b28116acb41c125",
        "IPY_MODEL_917c802f83474399bad7301168f9c1e6",
        "IPY_MODEL_f33c85677abb481b842f29f05192bcf5"
       ],
       "layout": "IPY_MODEL_17747cdb4c0f485285d19596770bc789"
      }
     }
    },
    "version_major": 2,
    "version_minor": 0
   }
  }
 },
 "nbformat": 4,
 "nbformat_minor": 4
}
